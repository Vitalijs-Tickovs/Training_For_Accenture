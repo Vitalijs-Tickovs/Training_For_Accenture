{
 "cells": [
  {
   "cell_type": "code",
   "id": "initial_id",
   "metadata": {
    "collapsed": true,
    "ExecuteTime": {
     "end_time": "2024-10-11T11:32:00.454593Z",
     "start_time": "2024-10-11T11:32:00.403619Z"
    }
   },
   "source": [
    "# Disable warnings in Anaconda\n",
    "import warnings\n",
    "\n",
    "from sklearn.preprocessing import StandardScaler\n",
    "\n",
    "warnings.filterwarnings(\"ignore\")\n",
    "\n",
    "import numpy as np\n",
    "import pandas as pd\n",
    "\n",
    "%matplotlib inline\n",
    "import matplotlib.pyplot as plt\n",
    "import seaborn as sns\n",
    "\n",
    "sns.set()\n",
    "\n",
    "from matplotlib import rcParams\n",
    "\n",
    "rcParams[\"figure.figsize\"] = 11, 8\n",
    "\n",
    "def fill_nan(table):\n",
    "    for col in table.columns:\n",
    "        table[col] = table[col].fillna(table[col].median())\n",
    "    return table\n",
    "\n",
    "data_path = '../mlcourse.ai_Dataset/'\n",
    "\n",
    "data = pd.read_csv(data_path + 'credit_scoring_sample.csv')"
   ],
   "outputs": [],
   "execution_count": 97
  },
  {
   "metadata": {
    "ExecuteTime": {
     "end_time": "2024-10-11T11:32:00.487763Z",
     "start_time": "2024-10-11T11:32:00.469553Z"
    }
   },
   "cell_type": "code",
   "source": "data.head()",
   "id": "559a04ec9f0a26c7",
   "outputs": [
    {
     "data": {
      "text/plain": [
       "   SeriousDlqin2yrs  age  NumberOfTime30-59DaysPastDueNotWorse    DebtRatio  \\\n",
       "0                 0   64                                     0     0.249908   \n",
       "1                 0   58                                     0  3870.000000   \n",
       "2                 0   41                                     0     0.456127   \n",
       "3                 0   43                                     0     0.000190   \n",
       "4                 1   49                                     0     0.271820   \n",
       "\n",
       "   NumberOfTimes90DaysLate  NumberOfTime60-89DaysPastDueNotWorse  \\\n",
       "0                        0                                     0   \n",
       "1                        0                                     0   \n",
       "2                        0                                     0   \n",
       "3                        0                                     0   \n",
       "4                        0                                     0   \n",
       "\n",
       "   MonthlyIncome  NumberOfDependents  \n",
       "0         8158.0                 0.0  \n",
       "1            NaN                 0.0  \n",
       "2         6666.0                 0.0  \n",
       "3        10500.0                 2.0  \n",
       "4          400.0                 0.0  "
      ],
      "text/html": [
       "<div>\n",
       "<style scoped>\n",
       "    .dataframe tbody tr th:only-of-type {\n",
       "        vertical-align: middle;\n",
       "    }\n",
       "\n",
       "    .dataframe tbody tr th {\n",
       "        vertical-align: top;\n",
       "    }\n",
       "\n",
       "    .dataframe thead th {\n",
       "        text-align: right;\n",
       "    }\n",
       "</style>\n",
       "<table border=\"1\" class=\"dataframe\">\n",
       "  <thead>\n",
       "    <tr style=\"text-align: right;\">\n",
       "      <th></th>\n",
       "      <th>SeriousDlqin2yrs</th>\n",
       "      <th>age</th>\n",
       "      <th>NumberOfTime30-59DaysPastDueNotWorse</th>\n",
       "      <th>DebtRatio</th>\n",
       "      <th>NumberOfTimes90DaysLate</th>\n",
       "      <th>NumberOfTime60-89DaysPastDueNotWorse</th>\n",
       "      <th>MonthlyIncome</th>\n",
       "      <th>NumberOfDependents</th>\n",
       "    </tr>\n",
       "  </thead>\n",
       "  <tbody>\n",
       "    <tr>\n",
       "      <th>0</th>\n",
       "      <td>0</td>\n",
       "      <td>64</td>\n",
       "      <td>0</td>\n",
       "      <td>0.249908</td>\n",
       "      <td>0</td>\n",
       "      <td>0</td>\n",
       "      <td>8158.0</td>\n",
       "      <td>0.0</td>\n",
       "    </tr>\n",
       "    <tr>\n",
       "      <th>1</th>\n",
       "      <td>0</td>\n",
       "      <td>58</td>\n",
       "      <td>0</td>\n",
       "      <td>3870.000000</td>\n",
       "      <td>0</td>\n",
       "      <td>0</td>\n",
       "      <td>NaN</td>\n",
       "      <td>0.0</td>\n",
       "    </tr>\n",
       "    <tr>\n",
       "      <th>2</th>\n",
       "      <td>0</td>\n",
       "      <td>41</td>\n",
       "      <td>0</td>\n",
       "      <td>0.456127</td>\n",
       "      <td>0</td>\n",
       "      <td>0</td>\n",
       "      <td>6666.0</td>\n",
       "      <td>0.0</td>\n",
       "    </tr>\n",
       "    <tr>\n",
       "      <th>3</th>\n",
       "      <td>0</td>\n",
       "      <td>43</td>\n",
       "      <td>0</td>\n",
       "      <td>0.000190</td>\n",
       "      <td>0</td>\n",
       "      <td>0</td>\n",
       "      <td>10500.0</td>\n",
       "      <td>2.0</td>\n",
       "    </tr>\n",
       "    <tr>\n",
       "      <th>4</th>\n",
       "      <td>1</td>\n",
       "      <td>49</td>\n",
       "      <td>0</td>\n",
       "      <td>0.271820</td>\n",
       "      <td>0</td>\n",
       "      <td>0</td>\n",
       "      <td>400.0</td>\n",
       "      <td>0.0</td>\n",
       "    </tr>\n",
       "  </tbody>\n",
       "</table>\n",
       "</div>"
      ]
     },
     "execution_count": 98,
     "metadata": {},
     "output_type": "execute_result"
    }
   ],
   "execution_count": 98
  },
  {
   "metadata": {
    "ExecuteTime": {
     "end_time": "2024-10-11T11:32:00.901691Z",
     "start_time": "2024-10-11T11:32:00.511697Z"
    }
   },
   "cell_type": "code",
   "source": [
    "ax = data[\"SeriousDlqin2yrs\"].hist(orientation=\"horizontal\", color=\"red\")\n",
    "ax.set_xlabel(\"Count\")\n",
    "ax.set_ylabel(\"Class values\")\n",
    "ax.set_title(\"Target distribution\")\n",
    "\n",
    "print(\"Distribution of the target:\")\n",
    "data[\"SeriousDlqin2yrs\"].value_counts(normalize=True)"
   ],
   "id": "a73a8ed90e54aebd",
   "outputs": [
    {
     "name": "stdout",
     "output_type": "stream",
     "text": [
      "Distribution of the target:\n"
     ]
    },
    {
     "data": {
      "text/plain": [
       "SeriousDlqin2yrs\n",
       "0    0.777511\n",
       "1    0.222489\n",
       "Name: proportion, dtype: float64"
      ]
     },
     "execution_count": 99,
     "metadata": {},
     "output_type": "execute_result"
    },
    {
     "data": {
      "text/plain": [
       "<Figure size 1100x800 with 1 Axes>"
      ],
      "image/png": "[encoded data removed]"
     },
     "metadata": {},
     "output_type": "display_data"
    }
   ],
   "execution_count": 99
  },
  {
   "metadata": {
    "ExecuteTime": {
     "end_time": "2024-10-11T11:32:00.913659Z",
     "start_time": "2024-10-11T11:32:00.902690Z"
    }
   },
   "cell_type": "code",
   "source": [
    "independent_column_names = [x for x in data if x != \"SeriousDlqin2yrs\"]\n",
    "independent_column_names"
   ],
   "id": "357fedc1c80f9a28",
   "outputs": [
    {
     "data": {
      "text/plain": [
       "['age',\n",
       " 'NumberOfTime30-59DaysPastDueNotWorse',\n",
       " 'DebtRatio',\n",
       " 'NumberOfTimes90DaysLate',\n",
       " 'NumberOfTime60-89DaysPastDueNotWorse',\n",
       " 'MonthlyIncome',\n",
       " 'NumberOfDependents']"
      ]
     },
     "execution_count": 100,
     "metadata": {},
     "output_type": "execute_result"
    }
   ],
   "execution_count": 100
  },
  {
   "metadata": {
    "ExecuteTime": {
     "end_time": "2024-10-11T11:32:00.935250Z",
     "start_time": "2024-10-11T11:32:00.915654Z"
    }
   },
   "cell_type": "code",
   "source": "data = fill_nan(data)",
   "id": "6c81b0e97829a3b9",
   "outputs": [],
   "execution_count": 101
  },
  {
   "metadata": {
    "ExecuteTime": {
     "end_time": "2024-10-11T11:32:00.944320Z",
     "start_time": "2024-10-11T11:32:00.938243Z"
    }
   },
   "cell_type": "code",
   "source": [
    "X = data[independent_column_names]\n",
    "y = data[\"SeriousDlqin2yrs\"]"
   ],
   "id": "eb2df9b880e6e657",
   "outputs": [],
   "execution_count": 102
  },
  {
   "metadata": {
    "ExecuteTime": {
     "end_time": "2024-10-11T11:32:03.041227Z",
     "start_time": "2024-10-11T11:32:00.946315Z"
    }
   },
   "cell_type": "code",
   "source": [
    "def get_bootstrap_samples(data, n_samples):\n",
    "    \"\"\"Generate samples using bootstrapping.\"\"\"\n",
    "    indices = np.random.randint(0, len(data), (n_samples, len(data)))\n",
    "    samples = data[indices]\n",
    "    return samples\n",
    "\n",
    "def stat_intervals(stat, alpha):\n",
    "    \"\"\"Produce an interval estimate.\"\"\"\n",
    "    boundaries = np.percentile(stat, [100 * alpha / 2.0, 100 * (1 - alpha / 2.0)])\n",
    "    return boundaries\n",
    "\n",
    "delayed_age = data[data[\"SeriousDlqin2yrs\"] == 1][\"age\"].values\n",
    "np.random.seed(0)\n",
    "delayed_age_mean_score = [np.mean(sample) for sample in get_bootstrap_samples(delayed_age, 10000)]\n",
    "print(f'Average age of customers who delayed repayment: {stat_intervals(delayed_age_mean_score, 0.1)}')"
   ],
   "id": "49bafcf0e114e5fa",
   "outputs": [
    {
     "name": "stdout",
     "output_type": "stream",
     "text": [
      "Average age of customers who delayed repayment: [45.71224317 46.13924297]\n"
     ]
    }
   ],
   "execution_count": 103
  },
  {
   "metadata": {
    "ExecuteTime": {
     "end_time": "2024-10-11T11:32:06.477949Z",
     "start_time": "2024-10-11T11:32:03.042226Z"
    }
   },
   "cell_type": "code",
   "source": [
    "from sklearn.linear_model import LogisticRegression\n",
    "from sklearn.model_selection import GridSearchCV, StratifiedKFold\n",
    "\n",
    "lr = LogisticRegression(random_state=5, class_weight=\"balanced\")\n",
    "parameters = {\"C\": (0.0001, 0.001, 0.01, 0.1, 1, 10)}\n",
    "\n",
    "skf = StratifiedKFold(n_splits=5, shuffle=True, random_state=5)\n",
    "\n",
    "lr_grid_search = GridSearchCV(lr, parameters, cv=skf, scoring='roc_auc')\n",
    "\n",
    "lr_grid_search.fit(X, y)\n",
    "\n",
    "print(f'Best parameter score: {lr_grid_search.best_params_} with ROC AUC score of {lr_grid_search.best_score_}')"
   ],
   "id": "1e892efe841ececd",
   "outputs": [
    {
     "name": "stdout",
     "output_type": "stream",
     "text": [
      "Best parameter score: {'C': 0.001} with ROC AUC score of 0.8089120626797153\n"
     ]
    }
   ],
   "execution_count": 104
  },
  {
   "metadata": {
    "ExecuteTime": {
     "end_time": "2024-10-11T11:32:06.483521Z",
     "start_time": "2024-10-11T11:32:06.478945Z"
    }
   },
   "cell_type": "code",
   "source": "print(lr_grid_search.cv_results_['std_test_score'])",
   "id": "7470a6958cab4902",
   "outputs": [
    {
     "name": "stdout",
     "output_type": "stream",
     "text": [
      "[0.00729192 0.00813756 0.00795436 0.00515991 0.00747165 0.00517587]\n"
     ]
    }
   ],
   "execution_count": 105
  },
  {
   "metadata": {},
   "cell_type": "markdown",
   "source": "The model is not stable, since its standard deviation is more than 0.5%",
   "id": "3dddf04d74cf4f25"
  },
  {
   "metadata": {
    "ExecuteTime": {
     "end_time": "2024-10-11T11:32:06.540303Z",
     "start_time": "2024-10-11T11:32:06.484517Z"
    }
   },
   "cell_type": "code",
   "source": [
    "from sklearn.preprocessing import StandardScaler\n",
    "\n",
    "lr = LogisticRegression(random_state=5, class_weight=\"balanced\", C=0.001)\n",
    "scaler = StandardScaler()\n",
    "lr.fit(scaler.fit_transform(X),y)\n",
    "\n",
    "lr_coef_df = pd.DataFrame(lr.coef_.T, columns=['Coefficient'], index=independent_column_names)\n",
    "abs_lr_coef_df = lr_coef_df.abs()\n",
    "abs_lr_coef_df.sort_values(by='Coefficient', ascending=False)"
   ],
   "id": "64ee85a5f7a297f",
   "outputs": [
    {
     "data": {
      "text/plain": [
       "                                      Coefficient\n",
       "NumberOfTime30-59DaysPastDueNotWorse     0.723427\n",
       "NumberOfTimes90DaysLate                  0.516788\n",
       "age                                      0.416702\n",
       "NumberOfTime60-89DaysPastDueNotWorse     0.193558\n",
       "MonthlyIncome                            0.163146\n",
       "NumberOfDependents                       0.101443\n",
       "DebtRatio                                0.024096"
      ],
      "text/html": [
       "<div>\n",
       "<style scoped>\n",
       "    .dataframe tbody tr th:only-of-type {\n",
       "        vertical-align: middle;\n",
       "    }\n",
       "\n",
       "    .dataframe tbody tr th {\n",
       "        vertical-align: top;\n",
       "    }\n",
       "\n",
       "    .dataframe thead th {\n",
       "        text-align: right;\n",
       "    }\n",
       "</style>\n",
       "<table border=\"1\" class=\"dataframe\">\n",
       "  <thead>\n",
       "    <tr style=\"text-align: right;\">\n",
       "      <th></th>\n",
       "      <th>Coefficient</th>\n",
       "    </tr>\n",
       "  </thead>\n",
       "  <tbody>\n",
       "    <tr>\n",
       "      <th>NumberOfTime30-59DaysPastDueNotWorse</th>\n",
       "      <td>0.723427</td>\n",
       "    </tr>\n",
       "    <tr>\n",
       "      <th>NumberOfTimes90DaysLate</th>\n",
       "      <td>0.516788</td>\n",
       "    </tr>\n",
       "    <tr>\n",
       "      <th>age</th>\n",
       "      <td>0.416702</td>\n",
       "    </tr>\n",
       "    <tr>\n",
       "      <th>NumberOfTime60-89DaysPastDueNotWorse</th>\n",
       "      <td>0.193558</td>\n",
       "    </tr>\n",
       "    <tr>\n",
       "      <th>MonthlyIncome</th>\n",
       "      <td>0.163146</td>\n",
       "    </tr>\n",
       "    <tr>\n",
       "      <th>NumberOfDependents</th>\n",
       "      <td>0.101443</td>\n",
       "    </tr>\n",
       "    <tr>\n",
       "      <th>DebtRatio</th>\n",
       "      <td>0.024096</td>\n",
       "    </tr>\n",
       "  </tbody>\n",
       "</table>\n",
       "</div>"
      ]
     },
     "execution_count": 106,
     "metadata": {},
     "output_type": "execute_result"
    }
   ],
   "execution_count": 106
  },
  {
   "metadata": {
    "ExecuteTime": {
     "end_time": "2024-10-11T11:32:06.546014Z",
     "start_time": "2024-10-11T11:32:06.540813Z"
    }
   },
   "cell_type": "code",
   "source": "lr_coef_df.index",
   "id": "ba705c20dc1fb650",
   "outputs": [
    {
     "data": {
      "text/plain": [
       "Index(['age', 'NumberOfTime30-59DaysPastDueNotWorse', 'DebtRatio',\n",
       "       'NumberOfTimes90DaysLate', 'NumberOfTime60-89DaysPastDueNotWorse',\n",
       "       'MonthlyIncome', 'NumberOfDependents'],\n",
       "      dtype='object')"
      ]
     },
     "execution_count": 107,
     "metadata": {},
     "output_type": "execute_result"
    }
   ],
   "execution_count": 107
  },
  {
   "metadata": {
    "ExecuteTime": {
     "end_time": "2024-10-11T11:32:06.557806Z",
     "start_time": "2024-10-11T11:32:06.551Z"
    }
   },
   "cell_type": "code",
   "source": [
    "### Question 6\n",
    "indexes = ['age', 'NumberOfTime30-59DaysPastDueNotWorse',\n",
    "           'NumberOfTimes90DaysLate', 'NumberOfTime60-89DaysPastDueNotWorse',\n",
    "           'MonthlyIncome', 'NumberOfDependents']\n",
    "print(np.exp(lr_coef_df.loc['DebtRatio']['Coefficient'])/sum(np.exp(lr_coef_df.loc[indexes]['Coefficient'])))"
   ],
   "id": "6125fea0d26aa6d7",
   "outputs": [
    {
     "name": "stdout",
     "output_type": "stream",
     "text": [
      "0.1290042641879216\n"
     ]
    }
   ],
   "execution_count": 108
  },
  {
   "metadata": {
    "ExecuteTime": {
     "end_time": "2024-10-11T11:32:06.792599Z",
     "start_time": "2024-10-11T11:32:06.558801Z"
    }
   },
   "cell_type": "code",
   "source": [
    "### Question 7\n",
    "log_regr = LogisticRegression(random_state=5, class_weight=\"balanced\", C=0.001)\n",
    "log_regr.fit(X, y)\n",
    "\n",
    "lr_coef_df = pd.DataFrame(lr.coef_.T, columns=['Coefficient'], index=independent_column_names)\n",
    "lr_coef_df"
   ],
   "id": "10e1db590197e7d9",
   "outputs": [
    {
     "data": {
      "text/plain": [
       "                                      Coefficient\n",
       "age                                     -0.416702\n",
       "NumberOfTime30-59DaysPastDueNotWorse     0.723427\n",
       "DebtRatio                               -0.024096\n",
       "NumberOfTimes90DaysLate                  0.516788\n",
       "NumberOfTime60-89DaysPastDueNotWorse     0.193558\n",
       "MonthlyIncome                           -0.163146\n",
       "NumberOfDependents                       0.101443"
      ],
      "text/html": [
       "<div>\n",
       "<style scoped>\n",
       "    .dataframe tbody tr th:only-of-type {\n",
       "        vertical-align: middle;\n",
       "    }\n",
       "\n",
       "    .dataframe tbody tr th {\n",
       "        vertical-align: top;\n",
       "    }\n",
       "\n",
       "    .dataframe thead th {\n",
       "        text-align: right;\n",
       "    }\n",
       "</style>\n",
       "<table border=\"1\" class=\"dataframe\">\n",
       "  <thead>\n",
       "    <tr style=\"text-align: right;\">\n",
       "      <th></th>\n",
       "      <th>Coefficient</th>\n",
       "    </tr>\n",
       "  </thead>\n",
       "  <tbody>\n",
       "    <tr>\n",
       "      <th>age</th>\n",
       "      <td>-0.416702</td>\n",
       "    </tr>\n",
       "    <tr>\n",
       "      <th>NumberOfTime30-59DaysPastDueNotWorse</th>\n",
       "      <td>0.723427</td>\n",
       "    </tr>\n",
       "    <tr>\n",
       "      <th>DebtRatio</th>\n",
       "      <td>-0.024096</td>\n",
       "    </tr>\n",
       "    <tr>\n",
       "      <th>NumberOfTimes90DaysLate</th>\n",
       "      <td>0.516788</td>\n",
       "    </tr>\n",
       "    <tr>\n",
       "      <th>NumberOfTime60-89DaysPastDueNotWorse</th>\n",
       "      <td>0.193558</td>\n",
       "    </tr>\n",
       "    <tr>\n",
       "      <th>MonthlyIncome</th>\n",
       "      <td>-0.163146</td>\n",
       "    </tr>\n",
       "    <tr>\n",
       "      <th>NumberOfDependents</th>\n",
       "      <td>0.101443</td>\n",
       "    </tr>\n",
       "  </tbody>\n",
       "</table>\n",
       "</div>"
      ]
     },
     "execution_count": 109,
     "metadata": {},
     "output_type": "execute_result"
    }
   ],
   "execution_count": 109
  },
  {
   "metadata": {
    "ExecuteTime": {
     "end_time": "2024-10-11T11:32:06.799516Z",
     "start_time": "2024-10-11T11:32:06.793596Z"
    }
   },
   "cell_type": "code",
   "source": "np.exp(lr_coef_df.loc['age']['Coefficient'] * 20)",
   "id": "3189ccc60f812669",
   "outputs": [
    {
     "data": {
      "text/plain": [
       "0.00024019826344027129"
      ]
     },
     "execution_count": 110,
     "metadata": {},
     "output_type": "execute_result"
    }
   ],
   "execution_count": 110
  },
  {
   "metadata": {
    "ExecuteTime": {
     "end_time": "2024-10-11T11:32:06.807479Z",
     "start_time": "2024-10-11T11:32:06.802507Z"
    }
   },
   "cell_type": "code",
   "source": [
    "from sklearn.ensemble import RandomForestClassifier\n",
    "\n",
    "rf = RandomForestClassifier(n_estimators=100, n_jobs=-1, random_state=42, class_weight=\"balanced\")\n",
    "\n",
    "parameters = {\n",
    "    \"max_features\": [1, 2, 4],\n",
    "    \"min_samples_leaf\": [3, 5, 7, 9],\n",
    "    \"max_depth\": [5, 10, 15],\n",
    "}\n",
    "\n",
    "rf_grid = GridSearchCV(estimator=rf, param_grid=parameters, scoring='roc_auc', cv=skf, verbose=1)"
   ],
   "id": "9d4161e13ba1e898",
   "outputs": [],
   "execution_count": 111
  },
  {
   "metadata": {
    "ExecuteTime": {
     "end_time": "2024-10-11T11:36:34.236205Z",
     "start_time": "2024-10-11T11:32:06.809473Z"
    }
   },
   "cell_type": "code",
   "source": [
    "rf_grid.fit(X,y)\n",
    "\n",
    "print(rf_grid.best_score_)"
   ],
   "id": "9257c4f87d46d260",
   "outputs": [
    {
     "name": "stdout",
     "output_type": "stream",
     "text": [
      "Fitting 5 folds for each of 36 candidates, totalling 180 fits\n",
      "[CV] END ....max_depth=5, max_features=1, min_samples_leaf=3; total time=   0.5s\n",
      "[CV] END ....max_depth=5, max_features=1, min_samples_leaf=3; total time=   0.8s\n",
      "[CV] END ....max_depth=5, max_features=1, min_samples_leaf=3; total time=   0.5s\n",
      "[CV] END ....max_depth=5, max_features=1, min_samples_leaf=3; total time=   0.4s\n",
      "[CV] END ....max_depth=5, max_features=1, min_samples_leaf=3; total time=   0.4s\n",
      "[CV] END ....max_depth=5, max_features=1, min_samples_leaf=5; total time=   0.4s\n",
      "[CV] END ....max_depth=5, max_features=1, min_samples_leaf=5; total time=   0.4s\n",
      "[CV] END ....max_depth=5, max_features=1, min_samples_leaf=5; total time=   0.4s\n",
      "[CV] END ....max_depth=5, max_features=1, min_samples_leaf=5; total time=   0.4s\n",
      "[CV] END ....max_depth=5, max_features=1, min_samples_leaf=5; total time=   0.5s\n",
      "[CV] END ....max_depth=5, max_features=1, min_samples_leaf=7; total time=   0.4s\n",
      "[CV] END ....max_depth=5, max_features=1, min_samples_leaf=7; total time=   0.5s\n",
      "[CV] END ....max_depth=5, max_features=1, min_samples_leaf=7; total time=   0.5s\n",
      "[CV] END ....max_depth=5, max_features=1, min_samples_leaf=7; total time=   0.4s\n",
      "[CV] END ....max_depth=5, max_features=1, min_samples_leaf=7; total time=   0.5s\n",
      "[CV] END ....max_depth=5, max_features=1, min_samples_leaf=9; total time=   0.4s\n",
      "[CV] END ....max_depth=5, max_features=1, min_samples_leaf=9; total time=   0.4s\n",
      "[CV] END ....max_depth=5, max_features=1, min_samples_leaf=9; total time=   0.5s\n",
      "[CV] END ....max_depth=5, max_features=1, min_samples_leaf=9; total time=   0.5s\n",
      "[CV] END ....max_depth=5, max_features=1, min_samples_leaf=9; total time=   0.5s\n",
      "[CV] END ....max_depth=5, max_features=2, min_samples_leaf=3; total time=   0.6s\n",
      "[CV] END ....max_depth=5, max_features=2, min_samples_leaf=3; total time=   0.6s\n",
      "[CV] END ....max_depth=5, max_features=2, min_samples_leaf=3; total time=   0.6s\n",
      "[CV] END ....max_depth=5, max_features=2, min_samples_leaf=3; total time=   0.6s\n",
      "[CV] END ....max_depth=5, max_features=2, min_samples_leaf=3; total time=   0.6s\n",
      "[CV] END ....max_depth=5, max_features=2, min_samples_leaf=5; total time=   0.6s\n",
      "[CV] END ....max_depth=5, max_features=2, min_samples_leaf=5; total time=   0.6s\n",
      "[CV] END ....max_depth=5, max_features=2, min_samples_leaf=5; total time=   0.6s\n",
      "[CV] END ....max_depth=5, max_features=2, min_samples_leaf=5; total time=   0.6s\n",
      "[CV] END ....max_depth=5, max_features=2, min_samples_leaf=5; total time=   0.6s\n",
      "[CV] END ....max_depth=5, max_features=2, min_samples_leaf=7; total time=   0.6s\n",
      "[CV] END ....max_depth=5, max_features=2, min_samples_leaf=7; total time=   0.6s\n",
      "[CV] END ....max_depth=5, max_features=2, min_samples_leaf=7; total time=   0.6s\n",
      "[CV] END ....max_depth=5, max_features=2, min_samples_leaf=7; total time=   0.6s\n",
      "[CV] END ....max_depth=5, max_features=2, min_samples_leaf=7; total time=   0.7s\n",
      "[CV] END ....max_depth=5, max_features=2, min_samples_leaf=9; total time=   0.6s\n",
      "[CV] END ....max_depth=5, max_features=2, min_samples_leaf=9; total time=   0.6s\n",
      "[CV] END ....max_depth=5, max_features=2, min_samples_leaf=9; total time=   0.6s\n",
      "[CV] END ....max_depth=5, max_features=2, min_samples_leaf=9; total time=   0.6s\n",
      "[CV] END ....max_depth=5, max_features=2, min_samples_leaf=9; total time=   0.6s\n",
      "[CV] END ....max_depth=5, max_features=4, min_samples_leaf=3; total time=   1.1s\n",
      "[CV] END ....max_depth=5, max_features=4, min_samples_leaf=3; total time=   1.1s\n",
      "[CV] END ....max_depth=5, max_features=4, min_samples_leaf=3; total time=   1.1s\n",
      "[CV] END ....max_depth=5, max_features=4, min_samples_leaf=3; total time=   1.1s\n",
      "[CV] END ....max_depth=5, max_features=4, min_samples_leaf=3; total time=   1.1s\n",
      "[CV] END ....max_depth=5, max_features=4, min_samples_leaf=5; total time=   1.1s\n",
      "[CV] END ....max_depth=5, max_features=4, min_samples_leaf=5; total time=   1.1s\n",
      "[CV] END ....max_depth=5, max_features=4, min_samples_leaf=5; total time=   1.1s\n",
      "[CV] END ....max_depth=5, max_features=4, min_samples_leaf=5; total time=   1.1s\n",
      "[CV] END ....max_depth=5, max_features=4, min_samples_leaf=5; total time=   1.1s\n",
      "[CV] END ....max_depth=5, max_features=4, min_samples_leaf=7; total time=   1.1s\n",
      "[CV] END ....max_depth=5, max_features=4, min_samples_leaf=7; total time=   1.1s\n",
      "[CV] END ....max_depth=5, max_features=4, min_samples_leaf=7; total time=   1.1s\n",
      "[CV] END ....max_depth=5, max_features=4, min_samples_leaf=7; total time=   1.1s\n",
      "[CV] END ....max_depth=5, max_features=4, min_samples_leaf=7; total time=   1.1s\n",
      "[CV] END ....max_depth=5, max_features=4, min_samples_leaf=9; total time=   1.1s\n",
      "[CV] END ....max_depth=5, max_features=4, min_samples_leaf=9; total time=   1.1s\n",
      "[CV] END ....max_depth=5, max_features=4, min_samples_leaf=9; total time=   1.1s\n",
      "[CV] END ....max_depth=5, max_features=4, min_samples_leaf=9; total time=   1.1s\n",
      "[CV] END ....max_depth=5, max_features=4, min_samples_leaf=9; total time=   1.1s\n",
      "[CV] END ...max_depth=10, max_features=1, min_samples_leaf=3; total time=   0.9s\n",
      "[CV] END ...max_depth=10, max_features=1, min_samples_leaf=3; total time=   0.9s\n",
      "[CV] END ...max_depth=10, max_features=1, min_samples_leaf=3; total time=   0.9s\n",
      "[CV] END ...max_depth=10, max_features=1, min_samples_leaf=3; total time=   0.8s\n",
      "[CV] END ...max_depth=10, max_features=1, min_samples_leaf=3; total time=   0.9s\n",
      "[CV] END ...max_depth=10, max_features=1, min_samples_leaf=5; total time=   0.9s\n",
      "[CV] END ...max_depth=10, max_features=1, min_samples_leaf=5; total time=   0.8s\n",
      "[CV] END ...max_depth=10, max_features=1, min_samples_leaf=5; total time=   0.9s\n",
      "[CV] END ...max_depth=10, max_features=1, min_samples_leaf=5; total time=   1.3s\n",
      "[CV] END ...max_depth=10, max_features=1, min_samples_leaf=5; total time=   1.0s\n",
      "[CV] END ...max_depth=10, max_features=1, min_samples_leaf=7; total time=   0.9s\n",
      "[CV] END ...max_depth=10, max_features=1, min_samples_leaf=7; total time=   0.9s\n",
      "[CV] END ...max_depth=10, max_features=1, min_samples_leaf=7; total time=   0.9s\n",
      "[CV] END ...max_depth=10, max_features=1, min_samples_leaf=7; total time=   0.9s\n",
      "[CV] END ...max_depth=10, max_features=1, min_samples_leaf=7; total time=   0.8s\n",
      "[CV] END ...max_depth=10, max_features=1, min_samples_leaf=9; total time=   0.9s\n",
      "[CV] END ...max_depth=10, max_features=1, min_samples_leaf=9; total time=   0.9s\n",
      "[CV] END ...max_depth=10, max_features=1, min_samples_leaf=9; total time=   0.9s\n",
      "[CV] END ...max_depth=10, max_features=1, min_samples_leaf=9; total time=   0.8s\n",
      "[CV] END ...max_depth=10, max_features=1, min_samples_leaf=9; total time=   0.8s\n",
      "[CV] END ...max_depth=10, max_features=2, min_samples_leaf=3; total time=   1.2s\n",
      "[CV] END ...max_depth=10, max_features=2, min_samples_leaf=3; total time=   1.2s\n",
      "[CV] END ...max_depth=10, max_features=2, min_samples_leaf=3; total time=   1.2s\n",
      "[CV] END ...max_depth=10, max_features=2, min_samples_leaf=3; total time=   1.2s\n",
      "[CV] END ...max_depth=10, max_features=2, min_samples_leaf=3; total time=   1.3s\n",
      "[CV] END ...max_depth=10, max_features=2, min_samples_leaf=5; total time=   1.4s\n",
      "[CV] END ...max_depth=10, max_features=2, min_samples_leaf=5; total time=   1.2s\n",
      "[CV] END ...max_depth=10, max_features=2, min_samples_leaf=5; total time=   1.2s\n",
      "[CV] END ...max_depth=10, max_features=2, min_samples_leaf=5; total time=   1.2s\n",
      "[CV] END ...max_depth=10, max_features=2, min_samples_leaf=5; total time=   1.3s\n",
      "[CV] END ...max_depth=10, max_features=2, min_samples_leaf=7; total time=   1.5s\n",
      "[CV] END ...max_depth=10, max_features=2, min_samples_leaf=7; total time=   1.3s\n",
      "[CV] END ...max_depth=10, max_features=2, min_samples_leaf=7; total time=   1.3s\n",
      "[CV] END ...max_depth=10, max_features=2, min_samples_leaf=7; total time=   1.2s\n",
      "[CV] END ...max_depth=10, max_features=2, min_samples_leaf=7; total time=   1.2s\n",
      "[CV] END ...max_depth=10, max_features=2, min_samples_leaf=9; total time=   1.2s\n",
      "[CV] END ...max_depth=10, max_features=2, min_samples_leaf=9; total time=   1.2s\n",
      "[CV] END ...max_depth=10, max_features=2, min_samples_leaf=9; total time=   1.2s\n",
      "[CV] END ...max_depth=10, max_features=2, min_samples_leaf=9; total time=   1.1s\n",
      "[CV] END ...max_depth=10, max_features=2, min_samples_leaf=9; total time=   1.2s\n",
      "[CV] END ...max_depth=10, max_features=4, min_samples_leaf=3; total time=   2.1s\n",
      "[CV] END ...max_depth=10, max_features=4, min_samples_leaf=3; total time=   2.1s\n",
      "[CV] END ...max_depth=10, max_features=4, min_samples_leaf=3; total time=   2.4s\n",
      "[CV] END ...max_depth=10, max_features=4, min_samples_leaf=3; total time=   2.7s\n",
      "[CV] END ...max_depth=10, max_features=4, min_samples_leaf=3; total time=   2.1s\n",
      "[CV] END ...max_depth=10, max_features=4, min_samples_leaf=5; total time=   2.1s\n",
      "[CV] END ...max_depth=10, max_features=4, min_samples_leaf=5; total time=   2.1s\n",
      "[CV] END ...max_depth=10, max_features=4, min_samples_leaf=5; total time=   2.2s\n",
      "[CV] END ...max_depth=10, max_features=4, min_samples_leaf=5; total time=   2.2s\n",
      "[CV] END ...max_depth=10, max_features=4, min_samples_leaf=5; total time=   2.1s\n",
      "[CV] END ...max_depth=10, max_features=4, min_samples_leaf=7; total time=   2.1s\n",
      "[CV] END ...max_depth=10, max_features=4, min_samples_leaf=7; total time=   2.1s\n",
      "[CV] END ...max_depth=10, max_features=4, min_samples_leaf=7; total time=   2.1s\n",
      "[CV] END ...max_depth=10, max_features=4, min_samples_leaf=7; total time=   2.2s\n",
      "[CV] END ...max_depth=10, max_features=4, min_samples_leaf=7; total time=   2.1s\n",
      "[CV] END ...max_depth=10, max_features=4, min_samples_leaf=9; total time=   2.1s\n",
      "[CV] END ...max_depth=10, max_features=4, min_samples_leaf=9; total time=   2.1s\n",
      "[CV] END ...max_depth=10, max_features=4, min_samples_leaf=9; total time=   2.1s\n",
      "[CV] END ...max_depth=10, max_features=4, min_samples_leaf=9; total time=   2.1s\n",
      "[CV] END ...max_depth=10, max_features=4, min_samples_leaf=9; total time=   2.1s\n",
      "[CV] END ...max_depth=15, max_features=1, min_samples_leaf=3; total time=   1.3s\n",
      "[CV] END ...max_depth=15, max_features=1, min_samples_leaf=3; total time=   1.4s\n",
      "[CV] END ...max_depth=15, max_features=1, min_samples_leaf=3; total time=   1.3s\n",
      "[CV] END ...max_depth=15, max_features=1, min_samples_leaf=3; total time=   1.3s\n",
      "[CV] END ...max_depth=15, max_features=1, min_samples_leaf=3; total time=   1.3s\n",
      "[CV] END ...max_depth=15, max_features=1, min_samples_leaf=5; total time=   1.3s\n",
      "[CV] END ...max_depth=15, max_features=1, min_samples_leaf=5; total time=   1.3s\n",
      "[CV] END ...max_depth=15, max_features=1, min_samples_leaf=5; total time=   1.4s\n",
      "[CV] END ...max_depth=15, max_features=1, min_samples_leaf=5; total time=   1.4s\n",
      "[CV] END ...max_depth=15, max_features=1, min_samples_leaf=5; total time=   1.3s\n",
      "[CV] END ...max_depth=15, max_features=1, min_samples_leaf=7; total time=   1.3s\n",
      "[CV] END ...max_depth=15, max_features=1, min_samples_leaf=7; total time=   1.3s\n",
      "[CV] END ...max_depth=15, max_features=1, min_samples_leaf=7; total time=   1.2s\n",
      "[CV] END ...max_depth=15, max_features=1, min_samples_leaf=7; total time=   1.3s\n",
      "[CV] END ...max_depth=15, max_features=1, min_samples_leaf=7; total time=   1.2s\n",
      "[CV] END ...max_depth=15, max_features=1, min_samples_leaf=9; total time=   1.4s\n",
      "[CV] END ...max_depth=15, max_features=1, min_samples_leaf=9; total time=   1.4s\n",
      "[CV] END ...max_depth=15, max_features=1, min_samples_leaf=9; total time=   1.2s\n",
      "[CV] END ...max_depth=15, max_features=1, min_samples_leaf=9; total time=   1.2s\n",
      "[CV] END ...max_depth=15, max_features=1, min_samples_leaf=9; total time=   1.2s\n",
      "[CV] END ...max_depth=15, max_features=2, min_samples_leaf=3; total time=   1.8s\n",
      "[CV] END ...max_depth=15, max_features=2, min_samples_leaf=3; total time=   1.8s\n",
      "[CV] END ...max_depth=15, max_features=2, min_samples_leaf=3; total time=   1.8s\n",
      "[CV] END ...max_depth=15, max_features=2, min_samples_leaf=3; total time=   1.8s\n",
      "[CV] END ...max_depth=15, max_features=2, min_samples_leaf=3; total time=   1.8s\n",
      "[CV] END ...max_depth=15, max_features=2, min_samples_leaf=5; total time=   1.7s\n",
      "[CV] END ...max_depth=15, max_features=2, min_samples_leaf=5; total time=   1.7s\n",
      "[CV] END ...max_depth=15, max_features=2, min_samples_leaf=5; total time=   1.7s\n",
      "[CV] END ...max_depth=15, max_features=2, min_samples_leaf=5; total time=   1.7s\n",
      "[CV] END ...max_depth=15, max_features=2, min_samples_leaf=5; total time=   1.7s\n",
      "[CV] END ...max_depth=15, max_features=2, min_samples_leaf=7; total time=   1.6s\n",
      "[CV] END ...max_depth=15, max_features=2, min_samples_leaf=7; total time=   1.7s\n",
      "[CV] END ...max_depth=15, max_features=2, min_samples_leaf=7; total time=   1.6s\n",
      "[CV] END ...max_depth=15, max_features=2, min_samples_leaf=7; total time=   1.7s\n",
      "[CV] END ...max_depth=15, max_features=2, min_samples_leaf=7; total time=   1.6s\n",
      "[CV] END ...max_depth=15, max_features=2, min_samples_leaf=9; total time=   1.6s\n",
      "[CV] END ...max_depth=15, max_features=2, min_samples_leaf=9; total time=   1.6s\n",
      "[CV] END ...max_depth=15, max_features=2, min_samples_leaf=9; total time=   1.6s\n",
      "[CV] END ...max_depth=15, max_features=2, min_samples_leaf=9; total time=   1.6s\n",
      "[CV] END ...max_depth=15, max_features=2, min_samples_leaf=9; total time=   1.6s\n",
      "[CV] END ...max_depth=15, max_features=4, min_samples_leaf=3; total time=   3.1s\n",
      "[CV] END ...max_depth=15, max_features=4, min_samples_leaf=3; total time=   3.0s\n",
      "[CV] END ...max_depth=15, max_features=4, min_samples_leaf=3; total time=   3.0s\n",
      "[CV] END ...max_depth=15, max_features=4, min_samples_leaf=3; total time=   3.1s\n",
      "[CV] END ...max_depth=15, max_features=4, min_samples_leaf=3; total time=   3.0s\n",
      "[CV] END ...max_depth=15, max_features=4, min_samples_leaf=5; total time=   2.9s\n",
      "[CV] END ...max_depth=15, max_features=4, min_samples_leaf=5; total time=   2.9s\n",
      "[CV] END ...max_depth=15, max_features=4, min_samples_leaf=5; total time=   3.0s\n",
      "[CV] END ...max_depth=15, max_features=4, min_samples_leaf=5; total time=   2.9s\n",
      "[CV] END ...max_depth=15, max_features=4, min_samples_leaf=5; total time=   3.1s\n",
      "[CV] END ...max_depth=15, max_features=4, min_samples_leaf=7; total time=   2.9s\n",
      "[CV] END ...max_depth=15, max_features=4, min_samples_leaf=7; total time=   2.9s\n",
      "[CV] END ...max_depth=15, max_features=4, min_samples_leaf=7; total time=   2.8s\n",
      "[CV] END ...max_depth=15, max_features=4, min_samples_leaf=7; total time=   2.8s\n",
      "[CV] END ...max_depth=15, max_features=4, min_samples_leaf=7; total time=   2.9s\n",
      "[CV] END ...max_depth=15, max_features=4, min_samples_leaf=9; total time=   3.0s\n",
      "[CV] END ...max_depth=15, max_features=4, min_samples_leaf=9; total time=   2.8s\n",
      "[CV] END ...max_depth=15, max_features=4, min_samples_leaf=9; total time=   2.8s\n",
      "[CV] END ...max_depth=15, max_features=4, min_samples_leaf=9; total time=   3.0s\n",
      "[CV] END ...max_depth=15, max_features=4, min_samples_leaf=9; total time=   2.8s\n",
      "0.8357785379863423\n"
     ]
    }
   ],
   "execution_count": 112
  },
  {
   "metadata": {
    "ExecuteTime": {
     "end_time": "2024-10-11T11:36:34.241960Z",
     "start_time": "2024-10-11T11:36:34.237201Z"
    }
   },
   "cell_type": "code",
   "source": "print(rf_grid.best_score_- lr_grid_search.best_score_)",
   "id": "4ba229e6ae4872ab",
   "outputs": [
    {
     "name": "stdout",
     "output_type": "stream",
     "text": [
      "0.026866475306627002\n"
     ]
    }
   ],
   "execution_count": 113
  },
  {
   "metadata": {
    "ExecuteTime": {
     "end_time": "2024-10-11T11:36:34.252638Z",
     "start_time": "2024-10-11T11:36:34.242954Z"
    }
   },
   "cell_type": "code",
   "source": "print(rf_grid.best_params_)",
   "id": "cf590f8a0cd9919a",
   "outputs": [
    {
     "name": "stdout",
     "output_type": "stream",
     "text": [
      "{'max_depth': 10, 'max_features': 2, 'min_samples_leaf': 9}\n"
     ]
    }
   ],
   "execution_count": 114
  },
  {
   "metadata": {
    "ExecuteTime": {
     "end_time": "2024-10-11T11:42:03.710913Z",
     "start_time": "2024-10-11T11:41:58.999547Z"
    }
   },
   "cell_type": "code",
   "source": [
    "rf = RandomForestClassifier(max_features=2, min_samples_leaf=9, max_depth=10)\n",
    "rf.fit(X, y)\n",
    "# rf_coef_df = pd.DataFrame(rf.coef_.T, columns=['Coefficient'], index=independent_column_names)\n",
    "# rf_coef_df"
   ],
   "id": "ea14753230b8f2a1",
   "outputs": [
    {
     "data": {
      "text/plain": [
       "RandomForestClassifier(max_depth=10, max_features=2, min_samples_leaf=9)"
      ],
      "text/html": [
       "<style>#sk-container-id-2 {color: black;}#sk-container-id-2 pre{padding: 0;}#sk-container-id-2 div.sk-toggleable {background-color: white;}#sk-container-id-2 label.sk-toggleable__label {cursor: pointer;display: block;width: 100%;margin-bottom: 0;padding: 0.3em;box-sizing: border-box;text-align: center;}#sk-container-id-2 label.sk-toggleable__label-arrow:before {content: \"▸\";float: left;margin-right: 0.25em;color: #696969;}#sk-container-id-2 label.sk-toggleable__label-arrow:hover:before {color: black;}#sk-container-id-2 div.sk-estimator:hover label.sk-toggleable__label-arrow:before {color: black;}#sk-container-id-2 div.sk-toggleable__content {max-height: 0;max-width: 0;overflow: hidden;text-align: left;background-color: #f0f8ff;}#sk-container-id-2 div.sk-toggleable__content pre {margin: 0.2em;color: black;border-radius: 0.25em;background-color: #f0f8ff;}#sk-container-id-2 input.sk-toggleable__control:checked~div.sk-toggleable__content {max-height: 200px;max-width: 100%;overflow: auto;}#sk-container-id-2 input.sk-toggleable__control:checked~label.sk-toggleable__label-arrow:before {content: \"▾\";}#sk-container-id-2 div.sk-estimator input.sk-toggleable__control:checked~label.sk-toggleable__label {background-color: #d4ebff;}#sk-container-id-2 div.sk-label input.sk-toggleable__control:checked~label.sk-toggleable__label {background-color: #d4ebff;}#sk-container-id-2 input.sk-hidden--visually {border: 0;clip: rect(1px 1px 1px 1px);clip: rect(1px, 1px, 1px, 1px);height: 1px;margin: -1px;overflow: hidden;padding: 0;position: absolute;width: 1px;}#sk-container-id-2 div.sk-estimator {font-family: monospace;background-color: #f0f8ff;border: 1px dotted black;border-radius: 0.25em;box-sizing: border-box;margin-bottom: 0.5em;}#sk-container-id-2 div.sk-estimator:hover {background-color: #d4ebff;}#sk-container-id-2 div.sk-parallel-item::after {content: \"\";width: 100%;border-bottom: 1px solid gray;flex-grow: 1;}#sk-container-id-2 div.sk-label:hover label.sk-toggleable__label {background-color: #d4ebff;}#sk-container-id-2 div.sk-serial::before {content: \"\";position: absolute;border-left: 1px solid gray;box-sizing: border-box;top: 0;bottom: 0;left: 50%;z-index: 0;}#sk-container-id-2 div.sk-serial {display: flex;flex-direction: column;align-items: center;background-color: white;padding-right: 0.2em;padding-left: 0.2em;position: relative;}#sk-container-id-2 div.sk-item {position: relative;z-index: 1;}#sk-container-id-2 div.sk-parallel {display: flex;align-items: stretch;justify-content: center;background-color: white;position: relative;}#sk-container-id-2 div.sk-item::before, #sk-container-id-2 div.sk-parallel-item::before {content: \"\";position: absolute;border-left: 1px solid gray;box-sizing: border-box;top: 0;bottom: 0;left: 50%;z-index: -1;}#sk-container-id-2 div.sk-parallel-item {display: flex;flex-direction: column;z-index: 1;position: relative;background-color: white;}#sk-container-id-2 div.sk-parallel-item:first-child::after {align-self: flex-end;width: 50%;}#sk-container-id-2 div.sk-parallel-item:last-child::after {align-self: flex-start;width: 50%;}#sk-container-id-2 div.sk-parallel-item:only-child::after {width: 0;}#sk-container-id-2 div.sk-dashed-wrapped {border: 1px dashed gray;margin: 0 0.4em 0.5em 0.4em;box-sizing: border-box;padding-bottom: 0.4em;background-color: white;}#sk-container-id-2 div.sk-label label {font-family: monospace;font-weight: bold;display: inline-block;line-height: 1.2em;}#sk-container-id-2 div.sk-label-container {text-align: center;}#sk-container-id-2 div.sk-container {/* jupyter's `normalize.less` sets `[hidden] { display: none; }` but bootstrap.min.css set `[hidden] { display: none !important; }` so we also need the `!important` here to be able to override the default hidden behavior on the sphinx rendered scikit-learn.org. See: https://github.com/scikit-learn/scikit-learn/issues/21755 */display: inline-block !important;position: relative;}#sk-container-id-2 div.sk-text-repr-fallback {display: none;}</style><div id=\"sk-container-id-2\" class=\"sk-top-container\"><div class=\"sk-text-repr-fallback\"><pre>RandomForestClassifier(max_depth=10, max_features=2, min_samples_leaf=9)</pre><b>In a Jupyter environment, please rerun this cell to show the HTML representation or trust the notebook. <br />On GitHub, the HTML representation is unable to render, please try loading this page with nbviewer.org.</b></div><div class=\"sk-container\" hidden><div class=\"sk-item\"><div class=\"sk-estimator sk-toggleable\"><input class=\"sk-toggleable__control sk-hidden--visually\" id=\"sk-estimator-id-2\" type=\"checkbox\" checked><label for=\"sk-estimator-id-2\" class=\"sk-toggleable__label sk-toggleable__label-arrow\">RandomForestClassifier</label><div class=\"sk-toggleable__content\"><pre>RandomForestClassifier(max_depth=10, max_features=2, min_samples_leaf=9)</pre></div></div></div></div></div>"
      ]
     },
     "execution_count": 131,
     "metadata": {},
     "output_type": "execute_result"
    }
   ],
   "execution_count": 131
  },
  {
   "metadata": {
    "ExecuteTime": {
     "end_time": "2024-10-11T11:42:42.313004Z",
     "start_time": "2024-10-11T11:42:42.300655Z"
    }
   },
   "cell_type": "code",
   "source": "print(independent_column_names[np.argmin(rf.feature_importances_)])",
   "id": "fc8ee06126e2b3ee",
   "outputs": [
    {
     "name": "stdout",
     "output_type": "stream",
     "text": [
      "NumberOfDependents\n"
     ]
    }
   ],
   "execution_count": 136
  },
  {
   "metadata": {
    "ExecuteTime": {
     "end_time": "2024-10-11T11:51:15.410884Z",
     "start_time": "2024-10-11T11:46:51.271717Z"
    }
   },
   "cell_type": "code",
   "source": [
    "from sklearn.ensemble import BaggingClassifier\n",
    "from sklearn.model_selection import RandomizedSearchCV, cross_val_score\n",
    "\n",
    "parameters = {\n",
    "    \"max_features\": [2, 3, 4],\n",
    "    \"max_samples\": [0.5, 0.7, 0.9],\n",
    "    \"base_estimator__C\": [0.0001, 0.001, 0.01, 1, 10, 100],\n",
    "}\n",
    "\n",
    "bagging = BaggingClassifier(LogisticRegression(class_weight=\"balanced\"), n_estimators=100, n_jobs=-1, random_state=42)\n",
    "\n",
    "bagging_cv = RandomizedSearchCV(estimator=bagging, param_distributions=parameters, cv=skf, verbose=1, scoring='roc_auc', n_iter=20)\n",
    "\n",
    "bagging_cv.fit(X, y)"
   ],
   "id": "4464e06b1c04f073",
   "outputs": [
    {
     "name": "stdout",
     "output_type": "stream",
     "text": [
      "Fitting 5 folds for each of 20 candidates, totalling 100 fits\n"
     ]
    },
    {
     "data": {
      "text/plain": [
       "RandomizedSearchCV(cv=StratifiedKFold(n_splits=5, random_state=5, shuffle=True),\n",
       "                   estimator=BaggingClassifier(estimator=LogisticRegression(class_weight='balanced'),\n",
       "                                               n_estimators=100, n_jobs=-1,\n",
       "                                               random_state=42),\n",
       "                   n_iter=20,\n",
       "                   param_distributions={'base_estimator__C': [0.0001, 0.001,\n",
       "                                                              0.01, 1, 10,\n",
       "                                                              100],\n",
       "                                        'max_features': [2, 3, 4],\n",
       "                                        'max_samples': [0.5, 0.7, 0.9]},\n",
       "                   scoring='roc_auc', verbose=1)"
      ],
      "text/html": [
       "<style>#sk-container-id-3 {color: black;}#sk-container-id-3 pre{padding: 0;}#sk-container-id-3 div.sk-toggleable {background-color: white;}#sk-container-id-3 label.sk-toggleable__label {cursor: pointer;display: block;width: 100%;margin-bottom: 0;padding: 0.3em;box-sizing: border-box;text-align: center;}#sk-container-id-3 label.sk-toggleable__label-arrow:before {content: \"▸\";float: left;margin-right: 0.25em;color: #696969;}#sk-container-id-3 label.sk-toggleable__label-arrow:hover:before {color: black;}#sk-container-id-3 div.sk-estimator:hover label.sk-toggleable__label-arrow:before {color: black;}#sk-container-id-3 div.sk-toggleable__content {max-height: 0;max-width: 0;overflow: hidden;text-align: left;background-color: #f0f8ff;}#sk-container-id-3 div.sk-toggleable__content pre {margin: 0.2em;color: black;border-radius: 0.25em;background-color: #f0f8ff;}#sk-container-id-3 input.sk-toggleable__control:checked~div.sk-toggleable__content {max-height: 200px;max-width: 100%;overflow: auto;}#sk-container-id-3 input.sk-toggleable__control:checked~label.sk-toggleable__label-arrow:before {content: \"▾\";}#sk-container-id-3 div.sk-estimator input.sk-toggleable__control:checked~label.sk-toggleable__label {background-color: #d4ebff;}#sk-container-id-3 div.sk-label input.sk-toggleable__control:checked~label.sk-toggleable__label {background-color: #d4ebff;}#sk-container-id-3 input.sk-hidden--visually {border: 0;clip: rect(1px 1px 1px 1px);clip: rect(1px, 1px, 1px, 1px);height: 1px;margin: -1px;overflow: hidden;padding: 0;position: absolute;width: 1px;}#sk-container-id-3 div.sk-estimator {font-family: monospace;background-color: #f0f8ff;border: 1px dotted black;border-radius: 0.25em;box-sizing: border-box;margin-bottom: 0.5em;}#sk-container-id-3 div.sk-estimator:hover {background-color: #d4ebff;}#sk-container-id-3 div.sk-parallel-item::after {content: \"\";width: 100%;border-bottom: 1px solid gray;flex-grow: 1;}#sk-container-id-3 div.sk-label:hover label.sk-toggleable__label {background-color: #d4ebff;}#sk-container-id-3 div.sk-serial::before {content: \"\";position: absolute;border-left: 1px solid gray;box-sizing: border-box;top: 0;bottom: 0;left: 50%;z-index: 0;}#sk-container-id-3 div.sk-serial {display: flex;flex-direction: column;align-items: center;background-color: white;padding-right: 0.2em;padding-left: 0.2em;position: relative;}#sk-container-id-3 div.sk-item {position: relative;z-index: 1;}#sk-container-id-3 div.sk-parallel {display: flex;align-items: stretch;justify-content: center;background-color: white;position: relative;}#sk-container-id-3 div.sk-item::before, #sk-container-id-3 div.sk-parallel-item::before {content: \"\";position: absolute;border-left: 1px solid gray;box-sizing: border-box;top: 0;bottom: 0;left: 50%;z-index: -1;}#sk-container-id-3 div.sk-parallel-item {display: flex;flex-direction: column;z-index: 1;position: relative;background-color: white;}#sk-container-id-3 div.sk-parallel-item:first-child::after {align-self: flex-end;width: 50%;}#sk-container-id-3 div.sk-parallel-item:last-child::after {align-self: flex-start;width: 50%;}#sk-container-id-3 div.sk-parallel-item:only-child::after {width: 0;}#sk-container-id-3 div.sk-dashed-wrapped {border: 1px dashed gray;margin: 0 0.4em 0.5em 0.4em;box-sizing: border-box;padding-bottom: 0.4em;background-color: white;}#sk-container-id-3 div.sk-label label {font-family: monospace;font-weight: bold;display: inline-block;line-height: 1.2em;}#sk-container-id-3 div.sk-label-container {text-align: center;}#sk-container-id-3 div.sk-container {/* jupyter's `normalize.less` sets `[hidden] { display: none; }` but bootstrap.min.css set `[hidden] { display: none !important; }` so we also need the `!important` here to be able to override the default hidden behavior on the sphinx rendered scikit-learn.org. See: https://github.com/scikit-learn/scikit-learn/issues/21755 */display: inline-block !important;position: relative;}#sk-container-id-3 div.sk-text-repr-fallback {display: none;}</style><div id=\"sk-container-id-3\" class=\"sk-top-container\"><div class=\"sk-text-repr-fallback\"><pre>RandomizedSearchCV(cv=StratifiedKFold(n_splits=5, random_state=5, shuffle=True),\n",
       "                   estimator=BaggingClassifier(estimator=LogisticRegression(class_weight=&#x27;balanced&#x27;),\n",
       "                                               n_estimators=100, n_jobs=-1,\n",
       "                                               random_state=42),\n",
       "                   n_iter=20,\n",
       "                   param_distributions={&#x27;base_estimator__C&#x27;: [0.0001, 0.001,\n",
       "                                                              0.01, 1, 10,\n",
       "                                                              100],\n",
       "                                        &#x27;max_features&#x27;: [2, 3, 4],\n",
       "                                        &#x27;max_samples&#x27;: [0.5, 0.7, 0.9]},\n",
       "                   scoring=&#x27;roc_auc&#x27;, verbose=1)</pre><b>In a Jupyter environment, please rerun this cell to show the HTML representation or trust the notebook. <br />On GitHub, the HTML representation is unable to render, please try loading this page with nbviewer.org.</b></div><div class=\"sk-container\" hidden><div class=\"sk-item sk-dashed-wrapped\"><div class=\"sk-label-container\"><div class=\"sk-label sk-toggleable\"><input class=\"sk-toggleable__control sk-hidden--visually\" id=\"sk-estimator-id-3\" type=\"checkbox\" ><label for=\"sk-estimator-id-3\" class=\"sk-toggleable__label sk-toggleable__label-arrow\">RandomizedSearchCV</label><div class=\"sk-toggleable__content\"><pre>RandomizedSearchCV(cv=StratifiedKFold(n_splits=5, random_state=5, shuffle=True),\n",
       "                   estimator=BaggingClassifier(estimator=LogisticRegression(class_weight=&#x27;balanced&#x27;),\n",
       "                                               n_estimators=100, n_jobs=-1,\n",
       "                                               random_state=42),\n",
       "                   n_iter=20,\n",
       "                   param_distributions={&#x27;base_estimator__C&#x27;: [0.0001, 0.001,\n",
       "                                                              0.01, 1, 10,\n",
       "                                                              100],\n",
       "                                        &#x27;max_features&#x27;: [2, 3, 4],\n",
       "                                        &#x27;max_samples&#x27;: [0.5, 0.7, 0.9]},\n",
       "                   scoring=&#x27;roc_auc&#x27;, verbose=1)</pre></div></div></div><div class=\"sk-parallel\"><div class=\"sk-parallel-item\"><div class=\"sk-item\"><div class=\"sk-label-container\"><div class=\"sk-label sk-toggleable\"><input class=\"sk-toggleable__control sk-hidden--visually\" id=\"sk-estimator-id-4\" type=\"checkbox\" ><label for=\"sk-estimator-id-4\" class=\"sk-toggleable__label sk-toggleable__label-arrow\">estimator: BaggingClassifier</label><div class=\"sk-toggleable__content\"><pre>BaggingClassifier(estimator=LogisticRegression(class_weight=&#x27;balanced&#x27;),\n",
       "                  n_estimators=100, n_jobs=-1, random_state=42)</pre></div></div></div><div class=\"sk-serial\"><div class=\"sk-item sk-dashed-wrapped\"><div class=\"sk-parallel\"><div class=\"sk-parallel-item\"><div class=\"sk-item\"><div class=\"sk-label-container\"><div class=\"sk-label sk-toggleable\"><input class=\"sk-toggleable__control sk-hidden--visually\" id=\"sk-estimator-id-5\" type=\"checkbox\" ><label for=\"sk-estimator-id-5\" class=\"sk-toggleable__label sk-toggleable__label-arrow\">estimator: LogisticRegression</label><div class=\"sk-toggleable__content\"><pre>LogisticRegression(class_weight=&#x27;balanced&#x27;)</pre></div></div></div><div class=\"sk-serial\"><div class=\"sk-item\"><div class=\"sk-estimator sk-toggleable\"><input class=\"sk-toggleable__control sk-hidden--visually\" id=\"sk-estimator-id-6\" type=\"checkbox\" ><label for=\"sk-estimator-id-6\" class=\"sk-toggleable__label sk-toggleable__label-arrow\">LogisticRegression</label><div class=\"sk-toggleable__content\"><pre>LogisticRegression(class_weight=&#x27;balanced&#x27;)</pre></div></div></div></div></div></div></div></div></div></div></div></div></div></div></div>"
      ]
     },
     "execution_count": 138,
     "metadata": {},
     "output_type": "execute_result"
    }
   ],
   "execution_count": 138
  },
  {
   "metadata": {
    "ExecuteTime": {
     "end_time": "2024-10-11T11:51:15.423734Z",
     "start_time": "2024-10-11T11:51:15.414872Z"
    }
   },
   "cell_type": "code",
   "source": "bagging_cv.best_score_",
   "id": "6f78481ff486dec6",
   "outputs": [
    {
     "data": {
      "text/plain": [
       "0.8087951623513827"
      ]
     },
     "execution_count": 139,
     "metadata": {},
     "output_type": "execute_result"
    }
   ],
   "execution_count": 139
  },
  {
   "metadata": {
    "ExecuteTime": {
     "end_time": "2024-10-11T11:51:15.439646Z",
     "start_time": "2024-10-11T11:51:15.424668Z"
    }
   },
   "cell_type": "code",
   "source": "bagging_cv.best_params_",
   "id": "3420a3087d149de6",
   "outputs": [
    {
     "data": {
      "text/plain": [
       "{'max_samples': 0.9, 'max_features': 2, 'base_estimator__C': 100}"
      ]
     },
     "execution_count": 140,
     "metadata": {},
     "output_type": "execute_result"
    }
   ],
   "execution_count": 140
  },
  {
   "metadata": {},
   "cell_type": "code",
   "outputs": [],
   "execution_count": null,
   "source": "",
   "id": "c7e63591309eb373"
  }
 ],
 "metadata": {
  "kernelspec": {
   "display_name": "Python 3",
   "language": "python",
   "name": "python3"
  },
  "language_info": {
   "codemirror_mode": {
    "name": "ipython",
    "version": 2
   },
   "file_extension": ".py",
   "mimetype": "text/x-python",
   "name": "python",
   "nbconvert_exporter": "python",
   "pygments_lexer": "ipython2",
   "version": "2.7.6"
  }
 },
 "nbformat": 4,
 "nbformat_minor": 5
}
