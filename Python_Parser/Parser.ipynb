{
 "cells": [
  {
   "cell_type": "code",
   "id": "initial_id",
   "metadata": {
    "collapsed": true,
    "ExecuteTime": {
     "end_time": "2024-10-17T14:16:47.502Z",
     "start_time": "2024-10-17T14:16:47.495006Z"
    }
   },
   "source": [
    "import ast\n",
    "\n",
    "code = \"\"\"\n",
    "class BankAccount:\n",
    "    def __init__(self, owner, balance=0):\n",
    "        self.account = owner                     # Name of the account holder\n",
    "        self.account_balance = balance           # Balance\n",
    "        self.account_details = {}                # Dictionary for account details\n",
    "\n",
    "    def set_account_details(self):\n",
    "        first_name, last_name = self.account.split(\" \")\n",
    "        self.account_details['first_name'] = first_name\n",
    "        self.account_details['last_name'] = last_name\n",
    "        self.account_details['initials'] = first_name[0] + last_name[0]\n",
    "        self.account_details['full_name'] = self.account\n",
    "        self.account_details['account_balance'] = self.account_balance\n",
    "\n",
    "    def display_account_details(self):\n",
    "        print(f\"Account Name: {self.account}\")\n",
    "        print(f\"Account Balance: {self.account_balance}\")\n",
    "        for key, value in self.account_details.items():\n",
    "            print(f\"{key}: {value}\")\n",
    "\n",
    "\n",
    "# Create an instance of BankAccount\n",
    "account1 = BankAccount(\"John Doe\", 100)\n",
    "\n",
    "# Set the account details\n",
    "account1.set_account_details()\n",
    "\n",
    "# Display the account details\n",
    "account1.display_account_details()\n",
    "\"\"\"\n",
    "tree = ast.parse(code)\n",
    "\n",
    "print(ast.dump(tree))"
   ],
   "outputs": [
    {
     "name": "stdout",
     "output_type": "stream",
     "text": [
      "Module(body=[ClassDef(name='BankAccount', bases=[], keywords=[], body=[FunctionDef(name='__init__', args=arguments(posonlyargs=[], args=[arg(arg='self'), arg(arg='owner'), arg(arg='balance')], kwonlyargs=[], kw_defaults=[], defaults=[Constant(value=0)]), body=[Assign(targets=[Attribute(value=Name(id='self', ctx=Load()), attr='account', ctx=Store())], value=Name(id='owner', ctx=Load())), Assign(targets=[Attribute(value=Name(id='self', ctx=Load()), attr='account_balance', ctx=Store())], value=Name(id='balance', ctx=Load())), Assign(targets=[Attribute(value=Name(id='self', ctx=Load()), attr='account_details', ctx=Store())], value=Dict(keys=[], values=[]))], decorator_list=[], type_params=[]), FunctionDef(name='set_account_details', args=arguments(posonlyargs=[], args=[arg(arg='self')], kwonlyargs=[], kw_defaults=[], defaults=[]), body=[Assign(targets=[Tuple(elts=[Name(id='first_name', ctx=Store()), Name(id='last_name', ctx=Store())], ctx=Store())], value=Call(func=Attribute(value=Attribute(value=Name(id='self', ctx=Load()), attr='account', ctx=Load()), attr='split', ctx=Load()), args=[Constant(value=' ')], keywords=[])), Assign(targets=[Subscript(value=Attribute(value=Name(id='self', ctx=Load()), attr='account_details', ctx=Load()), slice=Constant(value='first_name'), ctx=Store())], value=Name(id='first_name', ctx=Load())), Assign(targets=[Subscript(value=Attribute(value=Name(id='self', ctx=Load()), attr='account_details', ctx=Load()), slice=Constant(value='last_name'), ctx=Store())], value=Name(id='last_name', ctx=Load())), Assign(targets=[Subscript(value=Attribute(value=Name(id='self', ctx=Load()), attr='account_details', ctx=Load()), slice=Constant(value='initials'), ctx=Store())], value=BinOp(left=Subscript(value=Name(id='first_name', ctx=Load()), slice=Constant(value=0), ctx=Load()), op=Add(), right=Subscript(value=Name(id='last_name', ctx=Load()), slice=Constant(value=0), ctx=Load()))), Assign(targets=[Subscript(value=Attribute(value=Name(id='self', ctx=Load()), attr='account_details', ctx=Load()), slice=Constant(value='full_name'), ctx=Store())], value=Attribute(value=Name(id='self', ctx=Load()), attr='account', ctx=Load())), Assign(targets=[Subscript(value=Attribute(value=Name(id='self', ctx=Load()), attr='account_details', ctx=Load()), slice=Constant(value='account_balance'), ctx=Store())], value=Attribute(value=Name(id='self', ctx=Load()), attr='account_balance', ctx=Load()))], decorator_list=[], type_params=[]), FunctionDef(name='display_account_details', args=arguments(posonlyargs=[], args=[arg(arg='self')], kwonlyargs=[], kw_defaults=[], defaults=[]), body=[Expr(value=Call(func=Name(id='print', ctx=Load()), args=[JoinedStr(values=[Constant(value='Account Name: '), FormattedValue(value=Attribute(value=Name(id='self', ctx=Load()), attr='account', ctx=Load()), conversion=-1)])], keywords=[])), Expr(value=Call(func=Name(id='print', ctx=Load()), args=[JoinedStr(values=[Constant(value='Account Balance: '), FormattedValue(value=Attribute(value=Name(id='self', ctx=Load()), attr='account_balance', ctx=Load()), conversion=-1)])], keywords=[])), For(target=Tuple(elts=[Name(id='key', ctx=Store()), Name(id='value', ctx=Store())], ctx=Store()), iter=Call(func=Attribute(value=Attribute(value=Name(id='self', ctx=Load()), attr='account_details', ctx=Load()), attr='items', ctx=Load()), args=[], keywords=[]), body=[Expr(value=Call(func=Name(id='print', ctx=Load()), args=[JoinedStr(values=[FormattedValue(value=Name(id='key', ctx=Load()), conversion=-1), Constant(value=': '), FormattedValue(value=Name(id='value', ctx=Load()), conversion=-1)])], keywords=[]))], orelse=[])], decorator_list=[], type_params=[])], decorator_list=[], type_params=[]), Assign(targets=[Name(id='account1', ctx=Store())], value=Call(func=Name(id='BankAccount', ctx=Load()), args=[Constant(value='John Doe'), Constant(value=100)], keywords=[])), Expr(value=Call(func=Attribute(value=Name(id='account1', ctx=Load()), attr='set_account_details', ctx=Load()), args=[], keywords=[])), Expr(value=Call(func=Attribute(value=Name(id='account1', ctx=Load()), attr='display_account_details', ctx=Load()), args=[], keywords=[]))], type_ignores=[])\n"
     ]
    }
   ],
   "execution_count": 2
  }
 ],
 "metadata": {
  "kernelspec": {
   "display_name": "Python 3",
   "language": "python",
   "name": "python3"
  },
  "language_info": {
   "codemirror_mode": {
    "name": "ipython",
    "version": 2
   },
   "file_extension": ".py",
   "mimetype": "text/x-python",
   "name": "python",
   "nbconvert_exporter": "python",
   "pygments_lexer": "ipython2",
   "version": "2.7.6"
  }
 },
 "nbformat": 4,
 "nbformat_minor": 5
}
